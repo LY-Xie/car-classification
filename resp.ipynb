{
  "cells": [
    {
      "cell_type": "code",
      "metadata": {},
      "source": [
        "# -*- coding:utf-8 -*-\n",
        "\n",
        "def generate_error_resp(param_name):\n",
        "    resp = {\n",
        "        'code': 4001,\n",
        "        'error': 'parameter: {} is missing'.format(param_name)\n",
        "    }\n",
        "    return resp\n",
        "\n",
        "def generate_success_resp(data):\n",
        "    resp = {\n",
        "        'code': 200,\n",
        "        'data': data\n",
        "    }\n",
        "    return resp\n"
      ],
      "outputs": [],
      "execution_count": null
    }
  ],
  "metadata": {
    "anaconda-cloud": {},
    "kernelspec": {
      "display_name": "Python 3",
      "language": "python",
      "name": "python3"
    },
    "language_info": {
      "codemirror_mode": {
        "name": "ipython",
        "version": 3
      },
      "file_extension": ".py",
      "mimetype": "text/x-python",
      "name": "python",
      "nbconvert_exporter": "python",
      "pygments_lexer": "ipython3",
      "version": "3.6.1"
    }
  },
  "nbformat": 4,
  "nbformat_minor": 1
}