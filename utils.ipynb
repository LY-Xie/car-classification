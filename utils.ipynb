{
  "cells": [
    {
      "cell_type": "code",
      "metadata": {},
      "source": [
        "import cv2 as cv\n",
        "import numpy as np\n",
        "import base64\n",
        "from io import BytesIO\n",
        "from PIL import Image\n",
        "\n",
        "\n",
        "def img_downsample(img, tgt_pixels):\n",
        "    rtn = img.copy()\n",
        "    actual_pixels = img.shape[0] * img.shape[1]\n",
        "    if actual_pixels > tgt_pixels:\n",
        "        ratio = (tgt_pixels / actual_pixels) ** 0.5\n",
        "        w, h = int(img.shape[0] * ratio), int(img.shape[1] * ratio)\n",
        "        rtn = cv.resize(img, (h, w))\n",
        "    return rtn\n",
        "\n",
        "\n",
        "def id_resize(img, tgt_pixels):\n",
        "    gray = cv.cvtColor(img, cv.COLOR_BGR2GRAY)\n",
        "    actual_pixels = np.sum(gray > 0)\n",
        "    ratio = (tgt_pixels / actual_pixels) ** 0.5\n",
        "    w, h = int(img.shape[0] * ratio), int(img.shape[1] * ratio)\n",
        "    rtn = cv.resize(img, (h, w))\n",
        "    return rtn\n",
        "\n",
        "\n",
        "def read_base64(base64_str):\n",
        "    byte_data = base64.b64decode(base64_str)\n",
        "    image_data = BytesIO(byte_data)\n",
        "    return image_data\n",
        "\n",
        "\n",
        "def base64_2_img(base64_str):\n",
        "    img_buf = read_base64(base64_str)\n",
        "    image = Image.open(img_buf)\n",
        "    img = cv.cvtColor(np.asarray(image), cv.COLOR_RGB2BGR)\n",
        "    return img\n",
        "\n",
        "\n",
        "# image = Image.open(\"plane.jpg\")\n",
        "# image.show()\n",
        "# img = cv2.cvtColor(numpy.asarray(image),cv2.COLOR_RGB2BGR)\n",
        "# cv2.imshow(\"OpenCV\",img)\n",
        "# cv2.waitKey()\n"
      ],
      "outputs": [],
      "execution_count": null
    }
  ],
  "metadata": {
    "anaconda-cloud": {},
    "kernelspec": {
      "display_name": "Python 3",
      "language": "python",
      "name": "python3"
    },
    "language_info": {
      "codemirror_mode": {
        "name": "ipython",
        "version": 3
      },
      "file_extension": ".py",
      "mimetype": "text/x-python",
      "name": "python",
      "nbconvert_exporter": "python",
      "pygments_lexer": "ipython3",
      "version": "3.6.1"
    }
  },
  "nbformat": 4,
  "nbformat_minor": 1
}