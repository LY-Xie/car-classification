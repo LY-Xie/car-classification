{
  "cells": [
    {
      "cell_type": "code",
      "metadata": {},
      "source": [
        "import requests,os,cv2,json,base64\n",
        "\n",
        "url = 'https://aip.baidubce.com/rest/2.0/image-classify/v1/car'\n",
        "# url = 'https://aip.baidubce.com/rest/2.0/image-classify/v1/redwine'\n",
        "appid = '18099681'\n",
        "key = 'yq76bfxT90t2dThVXGAkMaan'\n",
        "secret_key = 'xHGlpKY57iw1co0ETkITOtIrLcVLppVo'\n",
        "\n",
        "\n",
        "def test_car_type(img):\n",
        "    h, w, _ = img.shape\n",
        "    if w<=50 or h<=50:\n",
        "        img = cv2.resize(img,(w*2,h*2))\n",
        "    else:\n",
        "        new_h = 200\n",
        "        new_w = int(w*new_h/h)\n",
        "        img = cv2.resize(img, (new_w, new_h))\n",
        "    cv2.imwrite('1.png',img)\n",
        "    with open(\"1.png\", 'rb') as f:\n",
        "        base64_data = base64.b64encode(f.read())\n",
        "        img_data = base64_data.decode()\n",
        "    token_url = f'https://aip.baidubce.com/oauth/2.0/token?grant_type=client_credentials&client_id={key}&client_secret={secret_key}'\n",
        "    token_res = requests.get(token_url)\n",
        "    access_token = json.loads(token_res.text)['access_token']\n",
        "    data = {'Content-Type': 'application/x-www-form-urlencoded', 'image': img_data, 'access_token': access_token}\n",
        "    res = requests.post(url, data)\n",
        "    out = json.loads(res.text)['result'][0]\n",
        "    return out"
      ],
      "outputs": [],
      "execution_count": null
    }
  ],
  "metadata": {
    "anaconda-cloud": {},
    "kernelspec": {
      "display_name": "Python 3",
      "language": "python",
      "name": "python3"
    },
    "language_info": {
      "codemirror_mode": {
        "name": "ipython",
        "version": 3
      },
      "file_extension": ".py",
      "mimetype": "text/x-python",
      "name": "python",
      "nbconvert_exporter": "python",
      "pygments_lexer": "ipython3",
      "version": "3.6.1"
    }
  },
  "nbformat": 4,
  "nbformat_minor": 1
}